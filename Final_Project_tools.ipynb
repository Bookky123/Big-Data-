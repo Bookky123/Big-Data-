{
  "nbformat": 4,
  "nbformat_minor": 0,
  "metadata": {
    "colab": {
      "provenance": [],
      "authorship_tag": "ABX9TyPBw4DNJGY/a9g5FA8RK9MM",
      "include_colab_link": true
    },
    "kernelspec": {
      "name": "python3",
      "display_name": "Python 3"
    },
    "language_info": {
      "name": "python"
    }
  },
  "cells": [
    {
      "cell_type": "markdown",
      "metadata": {
        "id": "view-in-github",
        "colab_type": "text"
      },
      "source": [
        "<a href=\"https://colab.research.google.com/github/Bookky123/Big-Data-/blob/main/Final_Project_tools.ipynb\" target=\"_parent\"><img src=\"https://colab.research.google.com/assets/colab-badge.svg\" alt=\"Open In Colab\"/></a>"
      ]
    },
    {
      "cell_type": "code",
      "execution_count": null,
      "metadata": {
        "id": "pOVxmqu08nE-"
      },
      "outputs": [],
      "source": [
        "!pip install opendatasets -q"
      ]
    },
    {
      "cell_type": "markdown",
      "source": [
        "# **Import library**"
      ],
      "metadata": {
        "id": "lDZ7JW7G9upU"
      }
    },
    {
      "cell_type": "code",
      "source": [
        "from os.path import split\n",
        "import pandas as pd\n",
        "import numpy as np\n",
        "import matplotlib.pyplot as plt\n",
        "import seaborn as sns\n",
        "\n",
        "from sklearn.model_selection import train_test_split, GridSearchCV\n",
        "from sklearn.ensemble import RandomForestClassifier\n",
        "from sklearn.metrics import accuracy_score, classification_report, confusion_matrix\n",
        "from imblearn.over_sampling import SMOTE\n",
        "from sklearn.neighbors import KNeighborsClassifier\n",
        "from sklearn.svm import SVC"
      ],
      "metadata": {
        "id": "2jehQ8-c9U_F"
      },
      "execution_count": null,
      "outputs": []
    },
    {
      "cell_type": "markdown",
      "source": [
        "##download data from kaggle"
      ],
      "metadata": {
        "id": "HH9ds0GA93E1"
      }
    },
    {
      "cell_type": "code",
      "source": [
        "import opendatasets as od\n",
        "od.download('https://www.kaggle.com/datasets/uciml/red-wine-quality-cortez-et-al-2009')"
      ],
      "metadata": {
        "id": "omOH07zy8q8m"
      },
      "execution_count": null,
      "outputs": []
    },
    {
      "cell_type": "code",
      "source": [
        "file = ('/content/red-wine-quality-cortez-et-al-2009/winequality-red.csv')\n",
        "df = pd.read_csv(file)\n",
        "df.sample(5)"
      ],
      "metadata": {
        "id": "IU4PD6Jy8rD6"
      },
      "execution_count": null,
      "outputs": []
    },
    {
      "cell_type": "code",
      "source": [
        "df.info()"
      ],
      "metadata": {
        "id": "hPNfeN8t8rKo"
      },
      "execution_count": null,
      "outputs": []
    },
    {
      "cell_type": "markdown",
      "source": [
        "# **Data Preprocessing**"
      ],
      "metadata": {
        "id": "HotoLJdE99yH"
      }
    },
    {
      "cell_type": "markdown",
      "source": [
        "## missing value"
      ],
      "metadata": {
        "id": "AEJIh-bPAxqq"
      }
    },
    {
      "cell_type": "code",
      "source": [
        "df.isnull().sum()"
      ],
      "metadata": {
        "id": "S3gFv2AQ8rQp"
      },
      "execution_count": null,
      "outputs": []
    },
    {
      "cell_type": "code",
      "source": [
        "columns = list(df.columns)\n",
        "columns"
      ],
      "metadata": {
        "id": "EZdcmoUT8rhI"
      },
      "execution_count": null,
      "outputs": []
    },
    {
      "cell_type": "markdown",
      "source": [
        "## visualization & plots"
      ],
      "metadata": {
        "id": "sj0m71uLA3D3"
      }
    },
    {
      "cell_type": "markdown",
      "source": [
        "### heatmap"
      ],
      "metadata": {
        "id": "S_Lt1AuXBpqy"
      }
    },
    {
      "cell_type": "code",
      "source": [
        "corr = df.corr()\n",
        "plt.figure(figsize=(10,8))\n",
        "sns.heatmap(corr, annot=True, cmap='coolwarm', fmt='.2f', vmin=-1, vmax=1)\n",
        "plt.title('Correlation Matrix')"
      ],
      "metadata": {
        "id": "AgRB7rhk8rnV"
      },
      "execution_count": null,
      "outputs": []
    },
    {
      "cell_type": "markdown",
      "source": [
        "### Scatterplot & Boxplot"
      ],
      "metadata": {
        "id": "ERq3lF54HgAU"
      }
    },
    {
      "cell_type": "code",
      "source": [
        "fig, ax = plt.subplots(11, 2, figsize=(16,45))\n",
        "plt.subplots_adjust(hspace=0.5)\n",
        "for i in range(11):\n",
        "    sns.boxplot(x=columns[i], data=df, ax=ax[i,0])\n",
        "    sns.scatterplot(x=columns[i], y='quality',data=df, ax=ax[i,1],hue='quality')"
      ],
      "metadata": {
        "id": "72Zcfp47A_t_"
      },
      "execution_count": null,
      "outputs": []
    },
    {
      "cell_type": "markdown",
      "source": [
        "### Target categorizing"
      ],
      "metadata": {
        "id": "r1YrKplTHsMp"
      }
    },
    {
      "cell_type": "code",
      "source": [
        "df.quality.unique()"
      ],
      "metadata": {
        "id": "20leSTGY-Mlo"
      },
      "execution_count": null,
      "outputs": []
    },
    {
      "cell_type": "code",
      "source": [
        "df = df.replace({'quality' : {\n",
        "    3 : 'bad',\n",
        "    4 : 'bad',\n",
        "    5 : 'middle',\n",
        "    6 : 'middle',\n",
        "    7 : 'good',\n",
        "    8 : 'good',\n",
        "}})"
      ],
      "metadata": {
        "collapsed": true,
        "id": "tYpYc2UG-Mso"
      },
      "execution_count": null,
      "outputs": []
    },
    {
      "cell_type": "code",
      "source": [
        "df.head(5)"
      ],
      "metadata": {
        "id": "AVFJpwEI-MzC"
      },
      "execution_count": null,
      "outputs": []
    },
    {
      "cell_type": "markdown",
      "source": [
        "### Normalization"
      ],
      "metadata": {
        "id": "nXqD11HsIiOd"
      }
    },
    {
      "cell_type": "code",
      "source": [
        "X = df.drop(columns='quality')\n",
        "y = df.quality"
      ],
      "metadata": {
        "id": "vGNb14pd-M5i"
      },
      "execution_count": null,
      "outputs": []
    },
    {
      "cell_type": "code",
      "source": [
        "df.describe()"
      ],
      "metadata": {
        "id": "uPS-t_Dr-M-y"
      },
      "execution_count": null,
      "outputs": []
    },
    {
      "cell_type": "markdown",
      "source": [
        "# Modeling"
      ],
      "metadata": {
        "id": "3lJ7M9IDJLWC"
      }
    },
    {
      "cell_type": "code",
      "source": [
        "df.quality.value_counts()"
      ],
      "metadata": {
        "id": "kd97smdj-ND7"
      },
      "execution_count": null,
      "outputs": []
    },
    {
      "cell_type": "code",
      "source": [
        "X_train, X_test, y_train, y_test = train_test_split(X,y, test_size=0.2, random_state=42)"
      ],
      "metadata": {
        "id": "-CkmC4zA-NJD"
      },
      "execution_count": null,
      "outputs": []
    },
    {
      "cell_type": "markdown",
      "source": [
        "## SMOTE"
      ],
      "metadata": {
        "id": "GD7P1U5GqNUV"
      }
    },
    {
      "cell_type": "code",
      "source": [
        "#เเยกตัวที่ต้องการ ปรับสมดุล ในกรณีนี้เราสนใจ good&middle\n",
        "X_train_gm = X_train[y_train.isin(['good','middle'])]\n",
        "y_train_gm = y_train[y_train.isin(['good','middle'])]\n",
        "\n",
        "#ใช้ smote ปรับสมดุล good&middle\n",
        "smote = SMOTE(random_state=42)\n",
        "X_resampled, y_resampled = smote.fit_resample(X_train_gm, y_train_gm)"
      ],
      "metadata": {
        "id": "0PrFYQ6lqTC-"
      },
      "execution_count": null,
      "outputs": []
    },
    {
      "cell_type": "code",
      "source": [
        "#รวมข้อมูลที่ปรับสมดุลเเล้ว กับ bad\n",
        "X_train_bad = X_train[y_train == 'bad']\n",
        "y_train_bad = y_train[y_train == 'bad']\n",
        "\n",
        "X_train_resampled = pd.concat([X_resampled, X_train_bad])\n",
        "y_train_resampled = pd.concat([y_resampled, y_train_bad])\n",
        "#ข้อมูลถูกปรับสมดุลเเล้ว"
      ],
      "metadata": {
        "id": "gDJZaynVtPpC"
      },
      "execution_count": null,
      "outputs": []
    },
    {
      "cell_type": "markdown",
      "source": [
        "## RandomForestClassifier"
      ],
      "metadata": {
        "id": "AZbQbXY-LQLr"
      }
    },
    {
      "cell_type": "code",
      "source": [
        "parameters = {\n",
        "    'n_estimators' : [50,150,500],\n",
        "    'criterion' : ['gini','entropy'],\n",
        "    'max_features' : ['sqrt','log2']\n",
        "}\n",
        "\n",
        "rfc = RandomForestClassifier(n_jobs=-1)\n",
        "rfc_cv = GridSearchCV(estimator=rfc, param_grid=parameters, cv=5).fit(X_train_resampled, y_train_resampled)\n",
        "\n",
        "print(rfc_cv.best_params_)\n",
        "print('accuracy_score :' ,rfc_cv.best_score_)"
      ],
      "metadata": {
        "id": "6cWHj8GG-NMR"
      },
      "execution_count": null,
      "outputs": []
    },
    {
      "cell_type": "code",
      "source": [
        "rf = RandomForestClassifier(**rfc_cv.best_params_).fit(X_train_resampled, y_train_resampled)\n",
        "\n",
        "#Predict model\n",
        "y_pred_rf = rf.predict(X_test)\n",
        "\n",
        "rf_score = round(rf.score(X_test,y_test),3)\n",
        "print('RandomForestClassifier Score : ',rf_score)"
      ],
      "metadata": {
        "id": "yGmWClw0O5tI"
      },
      "execution_count": null,
      "outputs": []
    },
    {
      "cell_type": "code",
      "source": [
        "y_test.value_counts()"
      ],
      "metadata": {
        "id": "3tX_cqGiO51t"
      },
      "execution_count": null,
      "outputs": []
    },
    {
      "cell_type": "code",
      "source": [
        "print(classification_report(y_test, y_pred_rf))"
      ],
      "metadata": {
        "id": "KtCvK0EN-NP9"
      },
      "execution_count": null,
      "outputs": []
    },
    {
      "cell_type": "code",
      "source": [
        "print(confusion_matrix(y_test, y_pred_rf))"
      ],
      "metadata": {
        "id": "d5xscbTA-NRr"
      },
      "execution_count": null,
      "outputs": []
    },
    {
      "cell_type": "markdown",
      "source": [
        "### Bad & Not Bad"
      ],
      "metadata": {
        "id": "vd3eOH6zy-Rb"
      }
    },
    {
      "cell_type": "markdown",
      "source": [
        "เเยกทำนาย ค่า Bad เพราะ ในโมเดล ไม่สามารถทำนายค่าBad ได้เลย"
      ],
      "metadata": {
        "id": "1PzXpk1t0PIu"
      }
    },
    {
      "cell_type": "code",
      "source": [
        "#สร้าง columns is_bad\n",
        "df['is_bad'] = df['quality'].apply(lambda x: 1 if x == 'bad' else 0)\n",
        "\n",
        "#เเบ่ง X,y\n",
        "X_bad = df.drop(columns=['quality', 'is_bad'], axis=1)\n",
        "y_bad = df['is_bad']"
      ],
      "metadata": {
        "id": "JvBelNr1-NTn"
      },
      "execution_count": null,
      "outputs": []
    },
    {
      "cell_type": "code",
      "source": [
        "X_train_bad, X_test_bad, y_train_bad, y_test_bad = train_test_split(X_bad,y_bad, test_size=0.2, random_state=42)"
      ],
      "metadata": {
        "id": "-FV35LD4-NVp"
      },
      "execution_count": null,
      "outputs": []
    },
    {
      "cell_type": "code",
      "source": [
        "#สร้าง Model is bad\n",
        "rf_bad = RandomForestClassifier(**rfc_cv.best_params_).fit(X_train_bad, y_train_bad)\n",
        "rf_bad.fit(X_train_bad, y_train_bad)"
      ],
      "metadata": {
        "id": "LHg6BmLa-NXd"
      },
      "execution_count": null,
      "outputs": []
    },
    {
      "cell_type": "code",
      "source": [
        "# predict\n",
        "y_pred_bad = rf_bad.predict(X_test_bad)"
      ],
      "metadata": {
        "id": "CcKSc39Q-NZL"
      },
      "execution_count": null,
      "outputs": []
    },
    {
      "cell_type": "code",
      "source": [
        "print(classification_report(y_test_bad, y_pred_bad))"
      ],
      "metadata": {
        "id": "mHwMs2R94e2z"
      },
      "execution_count": null,
      "outputs": []
    },
    {
      "cell_type": "code",
      "source": [
        "print(confusion_matrix(y_test_bad, y_pred_bad))"
      ],
      "metadata": {
        "id": "Y2mNMU0O8rtS"
      },
      "execution_count": null,
      "outputs": []
    },
    {
      "cell_type": "markdown",
      "source": [
        "##  KNeighborsClassifier"
      ],
      "metadata": {
        "id": "t_jWZmbA567B"
      }
    },
    {
      "cell_type": "code",
      "source": [
        "parameters = {\n",
        "    'n_neighbors' : list(np.arange(3,50,2)),\n",
        "    'weights' : ['uniform', 'distance'],\n",
        "    'p' : [1,2,3,4]\n",
        "}\n",
        "\n",
        "knn = KNeighborsClassifier()\n",
        "knn_cv = GridSearchCV(estimator=knn, param_grid=parameters, cv=10).fit(X_train_resampled,y_train_resampled)\n",
        "\n",
        "print(knn_cv.best_params_)\n",
        "print('accurracy ',knn_cv.best_score_)"
      ],
      "metadata": {
        "id": "uOFj8hwK6EGs"
      },
      "execution_count": null,
      "outputs": []
    },
    {
      "cell_type": "code",
      "source": [
        "knn = KNeighborsClassifier(**knn_cv.best_params_).fit(X_train_resampled, y_train_resampled)"
      ],
      "metadata": {
        "id": "5aHp8yfmBHFH"
      },
      "execution_count": null,
      "outputs": []
    },
    {
      "cell_type": "code",
      "source": [
        "y_pred_knn = knn_cv.predict(X_test)\n",
        "\n",
        "knn_score = round(knn_cv.score(X_test,y_test), 3)\n",
        "print('KNeighborsClassifier Score : ',knn_score)"
      ],
      "metadata": {
        "id": "lPzzqtFRBfTY"
      },
      "execution_count": null,
      "outputs": []
    },
    {
      "cell_type": "code",
      "source": [
        "print(classification_report(y_test, y_pred_knn))"
      ],
      "metadata": {
        "id": "Oyk1uhdsISUk"
      },
      "execution_count": null,
      "outputs": []
    },
    {
      "cell_type": "code",
      "source": [
        "print(confusion_matrix(y_test, y_pred_knn))"
      ],
      "metadata": {
        "id": "NiowunNTIaZ4"
      },
      "execution_count": null,
      "outputs": []
    },
    {
      "cell_type": "markdown",
      "source": [
        "## SVC"
      ],
      "metadata": {
        "id": "SffaxvzgR86M"
      }
    },
    {
      "cell_type": "code",
      "source": [
        "parameters = {\n",
        "    'C' : [0.001, 0.01, 0.1, 1, 10, 100, 1000],\n",
        "    'gamma' : [0.001, 0.01, 0.1, 1, 10, 100, 1000]\n",
        "}\n",
        "\n",
        "svc = SVC()\n",
        "svc_cv = GridSearchCV(estimator=svc, param_grid=parameters, cv=10).fit(X_train_resampled,y_train_resampled)\n",
        "\n",
        "print('Turned hyper parameter : ', svc_cv.best_params_)\n",
        "print('accurracy score : ', svc_cv.best_score_)"
      ],
      "metadata": {
        "id": "glXEKhzwSJnu"
      },
      "execution_count": null,
      "outputs": []
    },
    {
      "cell_type": "code",
      "source": [
        "svc = SVC(**svc_cv.best_params_).fit(X_train_resampled, y_train_resampled)"
      ],
      "metadata": {
        "id": "-koSp5SBT1ye"
      },
      "execution_count": null,
      "outputs": []
    },
    {
      "cell_type": "code",
      "source": [
        "y_pred_svc = svc_cv.predict(X_test)\n",
        "\n",
        "svc_score = round(svc.score(X_test, y_test),3)\n",
        "print('SVC Score : ', svc_score)"
      ],
      "metadata": {
        "id": "7hEhfFV1T16D"
      },
      "execution_count": null,
      "outputs": []
    },
    {
      "cell_type": "code",
      "source": [
        "print(classification_report(y_test, y_pred_svc))"
      ],
      "metadata": {
        "id": "Mm18wVGqT2Co"
      },
      "execution_count": null,
      "outputs": []
    },
    {
      "cell_type": "code",
      "source": [
        "print(confusion_matrix(y_test, y_pred_svc))"
      ],
      "metadata": {
        "id": "tHv22XgVT2NH"
      },
      "execution_count": null,
      "outputs": []
    },
    {
      "cell_type": "markdown",
      "source": [
        "# Result"
      ],
      "metadata": {
        "id": "ND1-Iyj7VREz"
      }
    },
    {
      "cell_type": "code",
      "source": [
        "result = pd.DataFrame({\n",
        "    'Model' : ['RandomForestClassifier', 'KNeighborsClassifier','SVC'],\n",
        "    'Score' : [rf_score, knn_score, svc_score]\n",
        "})\n",
        "\n",
        "result.sort_values(by='Score', inplace=True, ascending=True)"
      ],
      "metadata": {
        "id": "QFCqMwDKWYG1"
      },
      "execution_count": null,
      "outputs": []
    },
    {
      "cell_type": "code",
      "source": [
        "fig, ax = plt.subplots(1, 1, figsize=(15,5))\n",
        "\n",
        "sns.barplot(x='Model',y='Score', data=result)\n",
        "ax.bar_label(ax.containers[0])\n",
        "ax.set_xticklabels(labels=result.Model, rotation=300)\n",
        "plt.show()"
      ],
      "metadata": {
        "id": "GgTaepcpXvdc"
      },
      "execution_count": null,
      "outputs": []
    },
    {
      "cell_type": "markdown",
      "source": [
        "**The Best Score : RandomForestClassifier**"
      ],
      "metadata": {
        "id": "iczkSAArZxXF"
      }
    },
    {
      "cell_type": "code",
      "source": [
        "rfc = RandomForestClassifier(**rfc_cv.best_params_)"
      ],
      "metadata": {
        "id": "qhz-jzcTXvoI"
      },
      "execution_count": null,
      "outputs": []
    },
    {
      "cell_type": "code",
      "source": [
        "rfc.fit(X,y)"
      ],
      "metadata": {
        "id": "upqqYDo1Xvxi"
      },
      "execution_count": null,
      "outputs": []
    }
  ]
}